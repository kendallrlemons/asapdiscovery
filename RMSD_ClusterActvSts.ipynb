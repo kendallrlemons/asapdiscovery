{
 "cells": [
  {
   "cell_type": "code",
   "execution_count": null,
   "metadata": {},
   "outputs": [],
   "source": [
    "import os\n",
    "import mdtraj as md\n",
    "import numpy as np\n",
    "\n",
    "# Define the folder path containing the PDB files\n",
    "folder_path = \"/Users/kendalllemons/Downloads/asap-datasets/full_frag_prepped_mpro_20230603/prepped_structures/splits/splits\""
   ]
  },
  {
   "cell_type": "code",
   "execution_count": null,
   "metadata": {},
   "outputs": [],
   "source": [
    "pdb_paths = [os.path.join(folder_path, file) for file in os.listdir(folder_path) if file.endswith(\".pdb\")]"
   ]
  },
  {
   "cell_type": "code",
   "execution_count": null,
   "metadata": {},
   "outputs": [],
   "source": [
    "filtered_trajectories = []"
   ]
  },
  {
   "cell_type": "code",
   "execution_count": null,
   "metadata": {},
   "outputs": [],
   "source": [
    "# Load PDB structures into memory and get atomic coordinates\n",
    "for pdb_path in pdb_paths:\n",
    "    traj = md.load(pdb_path)\n",
    "    \n",
    "    # Check if it's the first structure encountered or has the same atom count as the first one\n",
    "    if len(filtered_trajectories) == 0 or traj.n_atoms == filtered_trajectories[0].n_atoms:\n",
    "        filtered_trajectories.append(traj)"
   ]
  },
  {
   "cell_type": "code",
   "execution_count": null,
   "metadata": {},
   "outputs": [],
   "source": [
    "# Initialize the RMSD matrix\n",
    "num_structures = len(filtered_trajectories)\n",
    "rmsd_matrix = np.zeros((num_structures, num_structures))"
   ]
  },
  {
   "cell_type": "code",
   "execution_count": null,
   "metadata": {},
   "outputs": [],
   "source": [
    "# Calculate RMSD for the filtered structures\n",
    "for i in range(num_structures):\n",
    "    for j in range(i + 1, num_structures):\n",
    "        rmsd = md.rmsd(filtered_trajectories[i], filtered_trajectories[j])\n",
    "        rmsd_matrix[i, j] = rmsd\n",
    "        rmsd_matrix[j, i] = rmsd  # RMSD is symmetric"
   ]
  },
  {
   "cell_type": "code",
   "execution_count": null,
   "metadata": {},
   "outputs": [],
   "source": [
    "rmsd_matrix"
   ]
  },
  {
   "cell_type": "code",
   "execution_count": null,
   "metadata": {},
   "outputs": [],
   "source": [
    "np.shape(rmsd_matrix)"
   ]
  },
  {
   "cell_type": "code",
   "execution_count": null,
   "metadata": {},
   "outputs": [],
   "source": [
    "rmsd_matrix.max()"
   ]
  },
  {
   "cell_type": "code",
   "execution_count": null,
   "metadata": {},
   "outputs": [],
   "source": [
    "rmsd_matrix.min()"
   ]
  },
  {
   "cell_type": "code",
   "execution_count": null,
   "metadata": {},
   "outputs": [],
   "source": [
    "np.all(rmsd_matrix - rmsd_matrix.T) < 0.00001"
   ]
  },
  {
   "cell_type": "code",
   "execution_count": null,
   "metadata": {},
   "outputs": [],
   "source": [
    "import plotly.express as px\n",
    "import plotly.graph_objects as go\n",
    "\n",
    "fig_heatmap = go.Figure(data=go.Heatmap(z=rmsd_matrix, colorscale='Viridis'))\n",
    "fig_heatmap.update_layout(title='RMSD Heatmap', xaxis_title='Structure Index', yaxis_title='Structure Index')\n",
    "fig_heatmap.show()"
   ]
  },
  {
   "cell_type": "code",
   "execution_count": null,
   "metadata": {},
   "outputs": [],
   "source": [
    "import pandas as pd\n",
    "from sklearn.decomposition import PCA\n",
    "from sklearn.cluster import KMeans\n",
    "\n",
    "# Perform dimensionality reduction (PCA)\n",
    "pca = PCA(n_components=2)\n",
    "reduced_rmsd = pca.fit_transform(rmsd_matrix)\n",
    "\n",
    "# Cluster the reduced data using K-means\n",
    "kmeans = KMeans(n_clusters=3)  # Adjust the number of clusters as needed\n",
    "cluster_labels = kmeans.fit_predict(reduced_rmsd)\n",
    "\n",
    "# Create a scatter plot of the clustered RMSD data using Plotly\n",
    "scatter_data = {'PC1': reduced_rmsd[:, 0], 'PC2': reduced_rmsd[:, 1], 'Cluster': cluster_labels}\n",
    "df = pd.DataFrame(scatter_data)\n",
    "fig_scatter = px.scatter(df, x='PC1', y='PC2', color='Cluster', title='Clustered RMSD Data')\n",
    "fig_scatter.show()"
   ]
  }
 ],
 "metadata": {
  "kernelspec": {
   "display_name": "base",
   "language": "python",
   "name": "python3"
  },
  "language_info": {
   "codemirror_mode": {
    "name": "ipython",
    "version": 3
   },
   "file_extension": ".py",
   "mimetype": "text/x-python",
   "name": "python",
   "nbconvert_exporter": "python",
   "pygments_lexer": "ipython3",
   "version": "3.9.13"
  }
 },
 "nbformat": 4,
 "nbformat_minor": 2
}
